{
 "cells": [
  {
   "cell_type": "code",
   "execution_count": 1,
   "metadata": {},
   "outputs": [],
   "source": [
    "# import statements\n",
    "import pandas as pd\n",
    "import numpy as np"
   ]
  },
  {
   "cell_type": "code",
   "execution_count": 20,
   "metadata": {},
   "outputs": [],
   "source": [
    "def clean_report(source_data,report,report_filename):\n",
    "    '''Reads in billing report for month, and source data of division and department,\n",
    "    then cleans it\n",
    "    Input : \n",
    "    source_data(string) : data showing division and department\n",
    "    report(string) : billing report from imagic\n",
    "    report_filename(string) : name of cleaned output file\n",
    "    \n",
    "    Output :\n",
    "    clean_report : cleaned billing month report for month\n",
    "    \n",
    "    '''\n",
    "    # Read in billing report & source_data\n",
    "    source_data = pd.read_excel(source_data,index_col=None)\n",
    "    report = pd.read_excel(report, skiprows = 7,index_col=None)\n",
    "    \n",
    "    #remove unnamed columns in report\n",
    "    report = report[report.columns[~report.columns.str.contains('Unnamed:')]]\n",
    "    \n",
    "    #list of unused columns\n",
    "    unused_cols = ['%','Avg Cost','Cost_2','Difference','% Difference','%.1','Avg Duration']\n",
    "    \n",
    "    #drop  unused columns\n",
    "    report.drop(columns= unused_cols,inplace=True)\n",
    "    \n",
    "    \n",
    "    # Create New columns from Extension by striping extension from name\n",
    "    report[['Number','Name']] = report['Extension'].str.extract(r'(\\d+)\\s*(.*)', expand=True)\n",
    "    \n",
    "    # drop Extension column\n",
    "    report.drop(['Extension'],axis= 1,inplace=True)\n",
    "    \n",
    "    # rename Number to Extension\n",
    "    report.rename(columns = {'Number':'Extension'}, inplace = True)\n",
    "                       \n",
    "    # fill null values in extension with zero\n",
    "    report['Extension'] = report['Extension'].fillna(0)\n",
    "                   \n",
    "    # convert Extension column to appropriate datatype\n",
    "    convert_dict = {'Extension': int} \n",
    "    report = report.astype(convert_dict) \n",
    "                   \n",
    "    #Rename telephoneNumber as Extension to match report.\n",
    "    source_data.rename(columns = {'telephoneNumber':'Extension'}, inplace = True)\n",
    "                   \n",
    "    # join reports df with the source_data df on the Extension\n",
    "    merged_df = pd.merge(report, source_data, on ='Extension',how ='inner') \n",
    "                   \n",
    "    # drop unused columns\n",
    "    merged_df.drop(['Present Functional Name'],axis= 1,inplace=True)\n",
    "                   \n",
    "    # Change order of columns in dataframe\n",
    "    report_clean = merged_df[['Extension','Name','Division','Department','Duration','Calls','Cost']]\n",
    "                   \n",
    "    # drop duplicate rows using extension\n",
    "    report_clean = report_clean.drop_duplicates(subset='Extension', keep=\"first\")\n",
    "    \n",
    "    # Output clean df\n",
    "    report_clean.to_excel(report_filename + \".xlsx\",sheet_name='main',index = False)\n",
    "    \n",
    "    # output null rows to dataframe with index\n",
    "    null_values = report_clean[report_clean['Division'].isna()]\n",
    "    null_values.to_excel(report_filename+ \"_null_values.xlsx\",sheet_name='null_values',index = False) \n",
    "                   "
   ]
  },
  {
   "cell_type": "code",
   "execution_count": 22,
   "metadata": {},
   "outputs": [
    {
     "name": "stdout",
     "output_type": "stream",
     "text": [
      "WARNING *** file size (1297352) not 512 + multiple of sector size (512)\n"
     ]
    }
   ],
   "source": [
    "clean_report('source_data.xlsx','oct_2020_desk.xls','Tucn_oct_2020')"
   ]
  },
  {
   "cell_type": "code",
   "execution_count": 3,
   "metadata": {},
   "outputs": [
    {
     "name": "stdout",
     "output_type": "stream",
     "text": [
      "WARNING *** file size (1297352) not 512 + multiple of sector size (512)\n"
     ]
    },
    {
     "data": {
      "text/html": [
       "<div>\n",
       "<style scoped>\n",
       "    .dataframe tbody tr th:only-of-type {\n",
       "        vertical-align: middle;\n",
       "    }\n",
       "\n",
       "    .dataframe tbody tr th {\n",
       "        vertical-align: top;\n",
       "    }\n",
       "\n",
       "    .dataframe thead th {\n",
       "        text-align: right;\n",
       "    }\n",
       "</style>\n",
       "<table border=\"1\" class=\"dataframe\">\n",
       "  <thead>\n",
       "    <tr style=\"text-align: right;\">\n",
       "      <th></th>\n",
       "      <th>Unnamed: 0</th>\n",
       "      <th>Extension</th>\n",
       "      <th>Unnamed: 2</th>\n",
       "      <th>Unnamed: 3</th>\n",
       "      <th>Cost</th>\n",
       "      <th>%</th>\n",
       "      <th>Avg Cost</th>\n",
       "      <th>Cost_2</th>\n",
       "      <th>Difference</th>\n",
       "      <th>Unnamed: 9</th>\n",
       "      <th>Unnamed: 10</th>\n",
       "      <th>% Difference</th>\n",
       "      <th>Calls</th>\n",
       "      <th>Duration</th>\n",
       "      <th>%.1</th>\n",
       "      <th>Unnamed: 15</th>\n",
       "      <th>Unnamed: 16</th>\n",
       "      <th>Avg Duration</th>\n",
       "    </tr>\n",
       "  </thead>\n",
       "  <tbody>\n",
       "    <tr>\n",
       "      <th>0</th>\n",
       "      <td>NaN</td>\n",
       "      <td>607738596 FSO COMON SUP FSO</td>\n",
       "      <td>NaN</td>\n",
       "      <td>NaN</td>\n",
       "      <td>1.212643e+06</td>\n",
       "      <td>0.115113</td>\n",
       "      <td>3975.879543</td>\n",
       "      <td>0</td>\n",
       "      <td>-1.212643e+06</td>\n",
       "      <td>NaN</td>\n",
       "      <td>NaN</td>\n",
       "      <td>NaN</td>\n",
       "      <td>305</td>\n",
       "      <td>18:55:00</td>\n",
       "      <td>0.000842</td>\n",
       "      <td>NaN</td>\n",
       "      <td>NaN</td>\n",
       "      <td>00:03:43</td>\n",
       "    </tr>\n",
       "    <tr>\n",
       "      <th>1</th>\n",
       "      <td>NaN</td>\n",
       "      <td>607738580 FSO HELI-LOUNGE FSO</td>\n",
       "      <td>NaN</td>\n",
       "      <td>NaN</td>\n",
       "      <td>1.858541e+05</td>\n",
       "      <td>0.017643</td>\n",
       "      <td>1272.973236</td>\n",
       "      <td>0</td>\n",
       "      <td>-1.858541e+05</td>\n",
       "      <td>NaN</td>\n",
       "      <td>NaN</td>\n",
       "      <td>NaN</td>\n",
       "      <td>146</td>\n",
       "      <td>05:57:39</td>\n",
       "      <td>0.000265</td>\n",
       "      <td>NaN</td>\n",
       "      <td>NaN</td>\n",
       "      <td>00:02:27</td>\n",
       "    </tr>\n",
       "    <tr>\n",
       "      <th>2</th>\n",
       "      <td>NaN</td>\n",
       "      <td>607737861 AKPO AKPO PUBLIC PHONE 2 LQ LEVEL 2</td>\n",
       "      <td>NaN</td>\n",
       "      <td>NaN</td>\n",
       "      <td>1.431314e+05</td>\n",
       "      <td>0.013587</td>\n",
       "      <td>46.456144</td>\n",
       "      <td>0</td>\n",
       "      <td>-1.431314e+05</td>\n",
       "      <td>NaN</td>\n",
       "      <td>NaN</td>\n",
       "      <td>NaN</td>\n",
       "      <td>3081</td>\n",
       "      <td>229:07:44</td>\n",
       "      <td>0.010195</td>\n",
       "      <td>NaN</td>\n",
       "      <td>NaN</td>\n",
       "      <td>00:04:28</td>\n",
       "    </tr>\n",
       "    <tr>\n",
       "      <th>3</th>\n",
       "      <td>NaN</td>\n",
       "      <td>607737860 AKPO AKPO PUBLIC PHONE 1 LQ LEVEL 2</td>\n",
       "      <td>NaN</td>\n",
       "      <td>NaN</td>\n",
       "      <td>1.254429e+05</td>\n",
       "      <td>0.011908</td>\n",
       "      <td>39.042298</td>\n",
       "      <td>0</td>\n",
       "      <td>-1.254429e+05</td>\n",
       "      <td>NaN</td>\n",
       "      <td>NaN</td>\n",
       "      <td>NaN</td>\n",
       "      <td>3213</td>\n",
       "      <td>234:19:46</td>\n",
       "      <td>0.010426</td>\n",
       "      <td>NaN</td>\n",
       "      <td>NaN</td>\n",
       "      <td>00:04:23</td>\n",
       "    </tr>\n",
       "    <tr>\n",
       "      <th>4</th>\n",
       "      <td>NaN</td>\n",
       "      <td>607738407 AMENAM INSTRUMENT SUPERVISOR</td>\n",
       "      <td>NaN</td>\n",
       "      <td>NaN</td>\n",
       "      <td>1.044787e+05</td>\n",
       "      <td>0.009918</td>\n",
       "      <td>477.071868</td>\n",
       "      <td>0</td>\n",
       "      <td>-1.044787e+05</td>\n",
       "      <td>NaN</td>\n",
       "      <td>NaN</td>\n",
       "      <td>NaN</td>\n",
       "      <td>219</td>\n",
       "      <td>24:45:14</td>\n",
       "      <td>0.001101</td>\n",
       "      <td>NaN</td>\n",
       "      <td>NaN</td>\n",
       "      <td>00:06:47</td>\n",
       "    </tr>\n",
       "  </tbody>\n",
       "</table>\n",
       "</div>"
      ],
      "text/plain": [
       "   Unnamed: 0                                      Extension  Unnamed: 2  \\\n",
       "0         NaN                    607738596 FSO COMON SUP FSO         NaN   \n",
       "1         NaN                  607738580 FSO HELI-LOUNGE FSO         NaN   \n",
       "2         NaN  607737861 AKPO AKPO PUBLIC PHONE 2 LQ LEVEL 2         NaN   \n",
       "3         NaN  607737860 AKPO AKPO PUBLIC PHONE 1 LQ LEVEL 2         NaN   \n",
       "4         NaN         607738407 AMENAM INSTRUMENT SUPERVISOR         NaN   \n",
       "\n",
       "   Unnamed: 3          Cost         %     Avg Cost  Cost_2    Difference  \\\n",
       "0         NaN  1.212643e+06  0.115113  3975.879543       0 -1.212643e+06   \n",
       "1         NaN  1.858541e+05  0.017643  1272.973236       0 -1.858541e+05   \n",
       "2         NaN  1.431314e+05  0.013587    46.456144       0 -1.431314e+05   \n",
       "3         NaN  1.254429e+05  0.011908    39.042298       0 -1.254429e+05   \n",
       "4         NaN  1.044787e+05  0.009918   477.071868       0 -1.044787e+05   \n",
       "\n",
       "   Unnamed: 9  Unnamed: 10  % Difference  Calls   Duration       %.1  \\\n",
       "0         NaN          NaN           NaN    305   18:55:00  0.000842   \n",
       "1         NaN          NaN           NaN    146   05:57:39  0.000265   \n",
       "2         NaN          NaN           NaN   3081  229:07:44  0.010195   \n",
       "3         NaN          NaN           NaN   3213  234:19:46  0.010426   \n",
       "4         NaN          NaN           NaN    219   24:45:14  0.001101   \n",
       "\n",
       "   Unnamed: 15  Unnamed: 16 Avg Duration  \n",
       "0          NaN          NaN     00:03:43  \n",
       "1          NaN          NaN     00:02:27  \n",
       "2          NaN          NaN     00:04:28  \n",
       "3          NaN          NaN     00:04:23  \n",
       "4          NaN          NaN     00:06:47  "
      ]
     },
     "execution_count": 3,
     "metadata": {},
     "output_type": "execute_result"
    }
   ],
   "source": [
    "# Read in billing report & source_data from local\n",
    "source_data = pd.read_excel('source_data.xlsx',index_col=None)\n",
    "\n",
    "oct_2020 = pd.read_excel('oct_2020_desk.xls', skiprows = 7,index_col=None)\n",
    "oct_2020.head(5)\n"
   ]
  },
  {
   "cell_type": "code",
   "execution_count": 4,
   "metadata": {},
   "outputs": [
    {
     "data": {
      "text/html": [
       "<div>\n",
       "<style scoped>\n",
       "    .dataframe tbody tr th:only-of-type {\n",
       "        vertical-align: middle;\n",
       "    }\n",
       "\n",
       "    .dataframe tbody tr th {\n",
       "        vertical-align: top;\n",
       "    }\n",
       "\n",
       "    .dataframe thead th {\n",
       "        text-align: right;\n",
       "    }\n",
       "</style>\n",
       "<table border=\"1\" class=\"dataframe\">\n",
       "  <thead>\n",
       "    <tr style=\"text-align: right;\">\n",
       "      <th></th>\n",
       "      <th>telephoneNumber</th>\n",
       "      <th>Present Functional Name</th>\n",
       "      <th>Division</th>\n",
       "      <th>Department</th>\n",
       "    </tr>\n",
       "  </thead>\n",
       "  <tbody>\n",
       "    <tr>\n",
       "      <th>0</th>\n",
       "      <td>20000</td>\n",
       "      <td>NaN</td>\n",
       "      <td>NaN</td>\n",
       "      <td>NaN</td>\n",
       "    </tr>\n",
       "    <tr>\n",
       "      <th>1</th>\n",
       "      <td>45033</td>\n",
       "      <td>EGINA HSE STORE</td>\n",
       "      <td>EGINA</td>\n",
       "      <td>EGINA Project</td>\n",
       "    </tr>\n",
       "    <tr>\n",
       "      <th>2</th>\n",
       "      <td>45034</td>\n",
       "      <td>EGINA GYM</td>\n",
       "      <td>EGINA Project</td>\n",
       "      <td>EGINA</td>\n",
       "    </tr>\n",
       "  </tbody>\n",
       "</table>\n",
       "</div>"
      ],
      "text/plain": [
       "   telephoneNumber Present Functional Name       Division     Department\n",
       "0            20000                     NaN            NaN            NaN\n",
       "1            45033         EGINA HSE STORE          EGINA  EGINA Project\n",
       "2            45034               EGINA GYM  EGINA Project          EGINA"
      ]
     },
     "execution_count": 4,
     "metadata": {},
     "output_type": "execute_result"
    }
   ],
   "source": [
    "source_data.head(3)"
   ]
  },
  {
   "cell_type": "code",
   "execution_count": 5,
   "metadata": {},
   "outputs": [
    {
     "data": {
      "text/plain": [
       "telephoneNumber              0\n",
       "Present Functional Name    356\n",
       "Division                   637\n",
       "Department                 486\n",
       "dtype: int64"
      ]
     },
     "execution_count": 5,
     "metadata": {},
     "output_type": "execute_result"
    }
   ],
   "source": [
    "# view number of null columns\n",
    "source_data.isnull().sum()"
   ]
  },
  {
   "cell_type": "code",
   "execution_count": 6,
   "metadata": {},
   "outputs": [
    {
     "data": {
      "text/plain": [
       "Unnamed: 0      3135\n",
       "Extension          0\n",
       "Unnamed: 2      3135\n",
       "Unnamed: 3      3135\n",
       "Cost               0\n",
       "%                  0\n",
       "Avg Cost         701\n",
       "Cost_2             0\n",
       "Difference         0\n",
       "Unnamed: 9      3135\n",
       "Unnamed: 10     3135\n",
       "% Difference    3135\n",
       "Calls              0\n",
       "Duration           0\n",
       "%.1                0\n",
       "Unnamed: 15     3135\n",
       "Unnamed: 16     3135\n",
       "Avg Duration       0\n",
       "dtype: int64"
      ]
     },
     "execution_count": 6,
     "metadata": {},
     "output_type": "execute_result"
    }
   ],
   "source": [
    "# view number of null columns\n",
    "oct_2020.isnull().sum()"
   ]
  },
  {
   "cell_type": "markdown",
   "metadata": {},
   "source": [
    "**Data Cleaning**"
   ]
  },
  {
   "cell_type": "code",
   "execution_count": 7,
   "metadata": {},
   "outputs": [
    {
     "data": {
      "text/plain": [
       "['Extension',\n",
       " 'Cost',\n",
       " '%',\n",
       " 'Avg Cost',\n",
       " 'Cost_2',\n",
       " 'Difference',\n",
       " '% Difference',\n",
       " 'Calls',\n",
       " 'Duration',\n",
       " '%.1',\n",
       " 'Avg Duration']"
      ]
     },
     "execution_count": 7,
     "metadata": {},
     "output_type": "execute_result"
    }
   ],
   "source": [
    "#remove unnamed columns\n",
    "oct_2020 = oct_2020[oct_2020.columns[~oct_2020.columns.str.contains('Unnamed:')]]\n",
    "list(oct_2020.columns)"
   ]
  },
  {
   "cell_type": "code",
   "execution_count": 8,
   "metadata": {},
   "outputs": [],
   "source": [
    "# drop unused columns\n",
    "#list of unused columns\n",
    "unused_cols = ['%','Avg Cost','Cost_2','Difference','% Difference','%.1','Avg Duration']\n",
    "#drop list of unused columns\n",
    "oct_2020.drop(columns=unused_cols,inplace=True)"
   ]
  },
  {
   "cell_type": "code",
   "execution_count": 9,
   "metadata": {},
   "outputs": [
    {
     "data": {
      "text/plain": [
       "['Extension', 'Cost', 'Calls', 'Duration']"
      ]
     },
     "execution_count": 9,
     "metadata": {},
     "output_type": "execute_result"
    }
   ],
   "source": [
    "#confirm changes\n",
    "list(oct_2020.columns)"
   ]
  },
  {
   "cell_type": "code",
   "execution_count": 10,
   "metadata": {},
   "outputs": [
    {
     "data": {
      "text/html": [
       "<div>\n",
       "<style scoped>\n",
       "    .dataframe tbody tr th:only-of-type {\n",
       "        vertical-align: middle;\n",
       "    }\n",
       "\n",
       "    .dataframe tbody tr th {\n",
       "        vertical-align: top;\n",
       "    }\n",
       "\n",
       "    .dataframe thead th {\n",
       "        text-align: right;\n",
       "    }\n",
       "</style>\n",
       "<table border=\"1\" class=\"dataframe\">\n",
       "  <thead>\n",
       "    <tr style=\"text-align: right;\">\n",
       "      <th></th>\n",
       "      <th>Extension</th>\n",
       "      <th>Cost</th>\n",
       "      <th>Calls</th>\n",
       "      <th>Duration</th>\n",
       "    </tr>\n",
       "  </thead>\n",
       "  <tbody>\n",
       "    <tr>\n",
       "      <th>0</th>\n",
       "      <td>607738596 FSO COMON SUP FSO</td>\n",
       "      <td>1.212643e+06</td>\n",
       "      <td>305</td>\n",
       "      <td>18:55:00</td>\n",
       "    </tr>\n",
       "    <tr>\n",
       "      <th>1</th>\n",
       "      <td>607738580 FSO HELI-LOUNGE FSO</td>\n",
       "      <td>1.858541e+05</td>\n",
       "      <td>146</td>\n",
       "      <td>05:57:39</td>\n",
       "    </tr>\n",
       "    <tr>\n",
       "      <th>2</th>\n",
       "      <td>607737861 AKPO AKPO PUBLIC PHONE 2 LQ LEVEL 2</td>\n",
       "      <td>1.431314e+05</td>\n",
       "      <td>3081</td>\n",
       "      <td>229:07:44</td>\n",
       "    </tr>\n",
       "  </tbody>\n",
       "</table>\n",
       "</div>"
      ],
      "text/plain": [
       "                                       Extension          Cost  Calls  \\\n",
       "0                    607738596 FSO COMON SUP FSO  1.212643e+06    305   \n",
       "1                  607738580 FSO HELI-LOUNGE FSO  1.858541e+05    146   \n",
       "2  607737861 AKPO AKPO PUBLIC PHONE 2 LQ LEVEL 2  1.431314e+05   3081   \n",
       "\n",
       "    Duration  \n",
       "0   18:55:00  \n",
       "1   05:57:39  \n",
       "2  229:07:44  "
      ]
     },
     "execution_count": 10,
     "metadata": {},
     "output_type": "execute_result"
    }
   ],
   "source": [
    "oct_2020.head(3)"
   ]
  },
  {
   "cell_type": "code",
   "execution_count": 11,
   "metadata": {},
   "outputs": [],
   "source": [
    "# Create New columns from Extension by striping extension from name\n",
    "oct_2020[['Number','Name']] = oct_2020['Extension'].str.extract(r'(\\d+)\\s*(.*)', expand=True)"
   ]
  },
  {
   "cell_type": "code",
   "execution_count": 12,
   "metadata": {},
   "outputs": [
    {
     "data": {
      "text/html": [
       "<div>\n",
       "<style scoped>\n",
       "    .dataframe tbody tr th:only-of-type {\n",
       "        vertical-align: middle;\n",
       "    }\n",
       "\n",
       "    .dataframe tbody tr th {\n",
       "        vertical-align: top;\n",
       "    }\n",
       "\n",
       "    .dataframe thead th {\n",
       "        text-align: right;\n",
       "    }\n",
       "</style>\n",
       "<table border=\"1\" class=\"dataframe\">\n",
       "  <thead>\n",
       "    <tr style=\"text-align: right;\">\n",
       "      <th></th>\n",
       "      <th>Extension</th>\n",
       "      <th>Cost</th>\n",
       "      <th>Calls</th>\n",
       "      <th>Duration</th>\n",
       "      <th>Number</th>\n",
       "      <th>Name</th>\n",
       "    </tr>\n",
       "  </thead>\n",
       "  <tbody>\n",
       "    <tr>\n",
       "      <th>0</th>\n",
       "      <td>607738596 FSO COMON SUP FSO</td>\n",
       "      <td>1.212643e+06</td>\n",
       "      <td>305</td>\n",
       "      <td>18:55:00</td>\n",
       "      <td>607738596</td>\n",
       "      <td>FSO COMON SUP FSO</td>\n",
       "    </tr>\n",
       "    <tr>\n",
       "      <th>1</th>\n",
       "      <td>607738580 FSO HELI-LOUNGE FSO</td>\n",
       "      <td>1.858541e+05</td>\n",
       "      <td>146</td>\n",
       "      <td>05:57:39</td>\n",
       "      <td>607738580</td>\n",
       "      <td>FSO HELI-LOUNGE FSO</td>\n",
       "    </tr>\n",
       "    <tr>\n",
       "      <th>2</th>\n",
       "      <td>607737861 AKPO AKPO PUBLIC PHONE 2 LQ LEVEL 2</td>\n",
       "      <td>1.431314e+05</td>\n",
       "      <td>3081</td>\n",
       "      <td>229:07:44</td>\n",
       "      <td>607737861</td>\n",
       "      <td>AKPO AKPO PUBLIC PHONE 2 LQ LEVEL 2</td>\n",
       "    </tr>\n",
       "  </tbody>\n",
       "</table>\n",
       "</div>"
      ],
      "text/plain": [
       "                                       Extension          Cost  Calls  \\\n",
       "0                    607738596 FSO COMON SUP FSO  1.212643e+06    305   \n",
       "1                  607738580 FSO HELI-LOUNGE FSO  1.858541e+05    146   \n",
       "2  607737861 AKPO AKPO PUBLIC PHONE 2 LQ LEVEL 2  1.431314e+05   3081   \n",
       "\n",
       "    Duration     Number                                 Name  \n",
       "0   18:55:00  607738596                    FSO COMON SUP FSO  \n",
       "1   05:57:39  607738580                  FSO HELI-LOUNGE FSO  \n",
       "2  229:07:44  607737861  AKPO AKPO PUBLIC PHONE 2 LQ LEVEL 2  "
      ]
     },
     "execution_count": 12,
     "metadata": {},
     "output_type": "execute_result"
    }
   ],
   "source": [
    "# Confirm changes\n",
    "oct_2020.head(3)"
   ]
  },
  {
   "cell_type": "code",
   "execution_count": 13,
   "metadata": {},
   "outputs": [],
   "source": [
    "# drop Extension column\n",
    "oct_2020.drop(['Extension'],axis= 1,inplace=True)"
   ]
  },
  {
   "cell_type": "code",
   "execution_count": null,
   "metadata": {},
   "outputs": [],
   "source": [
    "# renaming Number to Extension\n",
    "oct_2020.rename(columns = {'Number':'Extension'}, inplace = True)\n",
    "list(oct_2020.columns)"
   ]
  },
  {
   "cell_type": "code",
   "execution_count": null,
   "metadata": {},
   "outputs": [],
   "source": [
    "oct_2020.dtypes"
   ]
  },
  {
   "cell_type": "code",
   "execution_count": null,
   "metadata": {},
   "outputs": [],
   "source": [
    "# view number of null columns\n",
    "oct_2020.isnull().sum()"
   ]
  },
  {
   "cell_type": "code",
   "execution_count": null,
   "metadata": {},
   "outputs": [],
   "source": [
    "oct_2020[oct_2020['Extension'].isnull()]"
   ]
  },
  {
   "cell_type": "code",
   "execution_count": null,
   "metadata": {},
   "outputs": [],
   "source": [
    "# replace null values in extension\n",
    "oct_2020['Extension'] = oct_2020['Extension'].fillna(0)"
   ]
  },
  {
   "cell_type": "code",
   "execution_count": null,
   "metadata": {},
   "outputs": [],
   "source": [
    "# confirm changes\n",
    "oct_2020.isnull().sum()"
   ]
  },
  {
   "cell_type": "code",
   "execution_count": null,
   "metadata": {},
   "outputs": [],
   "source": [
    "# convert Extension column to appropriate datatype\n",
    "convert_dict = {'Extension': int} \n",
    "  \n",
    "oct_2020 = oct_2020.astype(convert_dict) \n",
    "oct_2020.dtypes"
   ]
  },
  {
   "cell_type": "code",
   "execution_count": null,
   "metadata": {},
   "outputs": [],
   "source": [
    "# view source_data dataframe \n",
    "source_data.head(5)"
   ]
  },
  {
   "cell_type": "code",
   "execution_count": null,
   "metadata": {},
   "outputs": [],
   "source": [
    "source_data.isnull().sum()"
   ]
  },
  {
   "cell_type": "code",
   "execution_count": null,
   "metadata": {},
   "outputs": [],
   "source": [
    "#Rename telephoneNumber as Extension and Present Functional Name as Name to match oct_2020.\n",
    "source_data.rename(columns = {'telephoneNumber':'Extension'}, inplace = True)\n",
    "list(source_data.columns)"
   ]
  },
  {
   "cell_type": "code",
   "execution_count": null,
   "metadata": {},
   "outputs": [],
   "source": [
    "source_data.dtypes"
   ]
  },
  {
   "cell_type": "code",
   "execution_count": null,
   "metadata": {},
   "outputs": [],
   "source": [
    "merged_df = pd.merge(oct_2020, source_data, on ='Extension',how ='inner') \n",
    "merged_df.head()"
   ]
  },
  {
   "cell_type": "code",
   "execution_count": null,
   "metadata": {},
   "outputs": [],
   "source": [
    "# drop unused columns\n",
    "merged_df.drop(['Present Functional Name'],axis= 1,inplace=True)\n",
    "# Change order of columns in dataframe\n",
    "oct_2020_clean = merged_df[['Extension','Name','Division','Department','Duration','Calls','Cost']]"
   ]
  },
  {
   "cell_type": "code",
   "execution_count": null,
   "metadata": {},
   "outputs": [],
   "source": [
    "oct_2020_clean.head()"
   ]
  },
  {
   "cell_type": "code",
   "execution_count": null,
   "metadata": {},
   "outputs": [],
   "source": [
    "# check duplicated rows\n",
    "oct_2020_clean.duplicated().sum()"
   ]
  },
  {
   "cell_type": "code",
   "execution_count": null,
   "metadata": {},
   "outputs": [],
   "source": [
    "# drop duplicate rows using extension\n",
    "oct_2020_clean = oct_2020_clean.drop_duplicates(subset='Extension', keep=\"first\")"
   ]
  },
  {
   "cell_type": "code",
   "execution_count": null,
   "metadata": {},
   "outputs": [],
   "source": [
    "# confirm changes\n",
    "oct_2020_clean.duplicated().sum()"
   ]
  },
  {
   "cell_type": "code",
   "execution_count": null,
   "metadata": {},
   "outputs": [],
   "source": [
    "oct_2020_clean.isnull().sum()"
   ]
  },
  {
   "cell_type": "code",
   "execution_count": null,
   "metadata": {},
   "outputs": [],
   "source": [
    "# Output clean df\n",
    "oct_2020_clean.to_excel(\"oct_2020_main_temp.xlsx\",sheet_name='oct_main',index = False)"
   ]
  },
  {
   "cell_type": "code",
   "execution_count": null,
   "metadata": {},
   "outputs": [],
   "source": [
    "# output null rows to dataframe with index\n",
    "#null_values = oct_2020_clean[oct_2020_clean['Division'].isna()]\n",
    "#null_values.to_excel(\"oct_2020_null.xlsx\",sheet_name='null_values',index = False) "
   ]
  },
  {
   "cell_type": "code",
   "execution_count": null,
   "metadata": {},
   "outputs": [],
   "source": []
  }
 ],
 "metadata": {
  "kernelspec": {
   "display_name": "Python 3",
   "language": "python",
   "name": "python3"
  },
  "language_info": {
   "codemirror_mode": {
    "name": "ipython",
    "version": 3
   },
   "file_extension": ".py",
   "mimetype": "text/x-python",
   "name": "python",
   "nbconvert_exporter": "python",
   "pygments_lexer": "ipython3",
   "version": "3.6.3"
  }
 },
 "nbformat": 4,
 "nbformat_minor": 2
}
